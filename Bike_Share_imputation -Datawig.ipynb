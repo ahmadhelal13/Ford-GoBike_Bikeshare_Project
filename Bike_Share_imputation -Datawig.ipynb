{
  "cells": [
    {
      "attachments": {},
      "cell_type": "markdown",
      "metadata": {
        "id": "DkRBoQl4jVbN"
      },
      "source": [
        "# (Ford-GoBike Share)\n",
        "In this notebook, we are going to use 'Datawig', a deeplearnig library specifically used for missing values imputation. There are two main features to impute 'Age' and 'Gender'.\n",
        "But first we will carry out some data manipulation and wrangling to compute the desired features to be used as input features in the learning algorithm.   \n",
        "\n",
        "## Preliminary Wrangling\n",
        "\n",
        "> This data set includes information about individual rides made in a bike-sharing system covering the greater San Francisco Bay area. Time and dates at which riders used to go on a ride, also some members identifications like age and membership status are included as well for each member. To analyze the main factors upon which may or may not affect the duration the individual take during the trip."
      ]
    },
    {
      "cell_type": "code",
      "execution_count": 2,
      "metadata": {
        "id": "vF-YRfBlljQQ"
      },
      "outputs": [],
      "source": [
        "import pandas as pd\n",
        "import numpy as np\n",
        "from datetime import datetime, timedelta\n",
        "from math import radians, cos, sin, asin, sqrt"
      ]
    },
    {
      "cell_type": "code",
      "execution_count": 3,
      "metadata": {
        "colab": {
          "base_uri": "https://localhost:8080/",
          "height": 183
        },
        "id": "wCqoFsFUjVbU",
        "outputId": "6690c03b-8648-46da-805d-f9a686fae6d3",
        "scrolled": true
      },
      "outputs": [
        {
          "data": {
            "text/html": [
              "<div>\n",
              "<style scoped>\n",
              "    .dataframe tbody tr th:only-of-type {\n",
              "        vertical-align: middle;\n",
              "    }\n",
              "\n",
              "    .dataframe tbody tr th {\n",
              "        vertical-align: top;\n",
              "    }\n",
              "\n",
              "    .dataframe thead th {\n",
              "        text-align: right;\n",
              "    }\n",
              "</style>\n",
              "<table border=\"1\" class=\"dataframe\">\n",
              "  <thead>\n",
              "    <tr style=\"text-align: right;\">\n",
              "      <th></th>\n",
              "      <th>duration_sec</th>\n",
              "      <th>start_time</th>\n",
              "      <th>end_time</th>\n",
              "      <th>start_station_id</th>\n",
              "      <th>start_station_name</th>\n",
              "      <th>start_station_latitude</th>\n",
              "      <th>start_station_longitude</th>\n",
              "      <th>end_station_id</th>\n",
              "      <th>end_station_name</th>\n",
              "      <th>end_station_latitude</th>\n",
              "      <th>end_station_longitude</th>\n",
              "      <th>bike_id</th>\n",
              "      <th>user_type</th>\n",
              "      <th>member_birth_year</th>\n",
              "      <th>member_gender</th>\n",
              "      <th>bike_share_for_all_trip</th>\n",
              "    </tr>\n",
              "  </thead>\n",
              "  <tbody>\n",
              "    <tr>\n",
              "      <th>0</th>\n",
              "      <td>52185</td>\n",
              "      <td>2019-02-28 17:32:10.1450</td>\n",
              "      <td>2019-03-01 08:01:55.9750</td>\n",
              "      <td>21.0</td>\n",
              "      <td>Montgomery St BART Station (Market St at 2nd St)</td>\n",
              "      <td>37.789625</td>\n",
              "      <td>-122.400811</td>\n",
              "      <td>13.0</td>\n",
              "      <td>Commercial St at Montgomery St</td>\n",
              "      <td>37.794231</td>\n",
              "      <td>-122.402923</td>\n",
              "      <td>4902</td>\n",
              "      <td>Customer</td>\n",
              "      <td>1984.0</td>\n",
              "      <td>Male</td>\n",
              "      <td>No</td>\n",
              "    </tr>\n",
              "    <tr>\n",
              "      <th>1</th>\n",
              "      <td>42521</td>\n",
              "      <td>2019-02-28 18:53:21.7890</td>\n",
              "      <td>2019-03-01 06:42:03.0560</td>\n",
              "      <td>23.0</td>\n",
              "      <td>The Embarcadero at Steuart St</td>\n",
              "      <td>37.791464</td>\n",
              "      <td>-122.391034</td>\n",
              "      <td>81.0</td>\n",
              "      <td>Berry St at 4th St</td>\n",
              "      <td>37.775880</td>\n",
              "      <td>-122.393170</td>\n",
              "      <td>2535</td>\n",
              "      <td>Customer</td>\n",
              "      <td>NaN</td>\n",
              "      <td>NaN</td>\n",
              "      <td>No</td>\n",
              "    </tr>\n",
              "    <tr>\n",
              "      <th>2</th>\n",
              "      <td>61854</td>\n",
              "      <td>2019-02-28 12:13:13.2180</td>\n",
              "      <td>2019-03-01 05:24:08.1460</td>\n",
              "      <td>86.0</td>\n",
              "      <td>Market St at Dolores St</td>\n",
              "      <td>37.769305</td>\n",
              "      <td>-122.426826</td>\n",
              "      <td>3.0</td>\n",
              "      <td>Powell St BART Station (Market St at 4th St)</td>\n",
              "      <td>37.786375</td>\n",
              "      <td>-122.404904</td>\n",
              "      <td>5905</td>\n",
              "      <td>Customer</td>\n",
              "      <td>1972.0</td>\n",
              "      <td>Male</td>\n",
              "      <td>No</td>\n",
              "    </tr>\n",
              "    <tr>\n",
              "      <th>3</th>\n",
              "      <td>36490</td>\n",
              "      <td>2019-02-28 17:54:26.0100</td>\n",
              "      <td>2019-03-01 04:02:36.8420</td>\n",
              "      <td>375.0</td>\n",
              "      <td>Grove St at Masonic Ave</td>\n",
              "      <td>37.774836</td>\n",
              "      <td>-122.446546</td>\n",
              "      <td>70.0</td>\n",
              "      <td>Central Ave at Fell St</td>\n",
              "      <td>37.773311</td>\n",
              "      <td>-122.444293</td>\n",
              "      <td>6638</td>\n",
              "      <td>Subscriber</td>\n",
              "      <td>1989.0</td>\n",
              "      <td>Other</td>\n",
              "      <td>No</td>\n",
              "    </tr>\n",
              "    <tr>\n",
              "      <th>4</th>\n",
              "      <td>1585</td>\n",
              "      <td>2019-02-28 23:54:18.5490</td>\n",
              "      <td>2019-03-01 00:20:44.0740</td>\n",
              "      <td>7.0</td>\n",
              "      <td>Frank H Ogawa Plaza</td>\n",
              "      <td>37.804562</td>\n",
              "      <td>-122.271738</td>\n",
              "      <td>222.0</td>\n",
              "      <td>10th Ave at E 15th St</td>\n",
              "      <td>37.792714</td>\n",
              "      <td>-122.248780</td>\n",
              "      <td>4898</td>\n",
              "      <td>Subscriber</td>\n",
              "      <td>1974.0</td>\n",
              "      <td>Male</td>\n",
              "      <td>Yes</td>\n",
              "    </tr>\n",
              "  </tbody>\n",
              "</table>\n",
              "</div>"
            ],
            "text/plain": [
              "   duration_sec                start_time                  end_time  \\\n",
              "0         52185  2019-02-28 17:32:10.1450  2019-03-01 08:01:55.9750   \n",
              "1         42521  2019-02-28 18:53:21.7890  2019-03-01 06:42:03.0560   \n",
              "2         61854  2019-02-28 12:13:13.2180  2019-03-01 05:24:08.1460   \n",
              "3         36490  2019-02-28 17:54:26.0100  2019-03-01 04:02:36.8420   \n",
              "4          1585  2019-02-28 23:54:18.5490  2019-03-01 00:20:44.0740   \n",
              "\n",
              "   start_station_id                                start_station_name  \\\n",
              "0              21.0  Montgomery St BART Station (Market St at 2nd St)   \n",
              "1              23.0                     The Embarcadero at Steuart St   \n",
              "2              86.0                           Market St at Dolores St   \n",
              "3             375.0                           Grove St at Masonic Ave   \n",
              "4               7.0                               Frank H Ogawa Plaza   \n",
              "\n",
              "   start_station_latitude  start_station_longitude  end_station_id  \\\n",
              "0               37.789625              -122.400811            13.0   \n",
              "1               37.791464              -122.391034            81.0   \n",
              "2               37.769305              -122.426826             3.0   \n",
              "3               37.774836              -122.446546            70.0   \n",
              "4               37.804562              -122.271738           222.0   \n",
              "\n",
              "                               end_station_name  end_station_latitude  \\\n",
              "0                Commercial St at Montgomery St             37.794231   \n",
              "1                            Berry St at 4th St             37.775880   \n",
              "2  Powell St BART Station (Market St at 4th St)             37.786375   \n",
              "3                        Central Ave at Fell St             37.773311   \n",
              "4                         10th Ave at E 15th St             37.792714   \n",
              "\n",
              "   end_station_longitude  bike_id   user_type  member_birth_year  \\\n",
              "0            -122.402923     4902    Customer             1984.0   \n",
              "1            -122.393170     2535    Customer                NaN   \n",
              "2            -122.404904     5905    Customer             1972.0   \n",
              "3            -122.444293     6638  Subscriber             1989.0   \n",
              "4            -122.248780     4898  Subscriber             1974.0   \n",
              "\n",
              "  member_gender bike_share_for_all_trip  \n",
              "0          Male                      No  \n",
              "1           NaN                      No  \n",
              "2          Male                      No  \n",
              "3         Other                      No  \n",
              "4          Male                     Yes  "
            ]
          },
          "execution_count": 3,
          "metadata": {},
          "output_type": "execute_result"
        }
      ],
      "source": [
        "df = pd.read_csv('2019-fordgobike-San Franscisco.csv')\n",
        "df.head()"
      ]
    },
    {
      "cell_type": "code",
      "execution_count": 4,
      "metadata": {
        "id": "I2VyPCmvljQS",
        "outputId": "23ac6baa-9211-4b36-bb11-0c67b032f8a4"
      },
      "outputs": [
        {
          "name": "stdout",
          "output_type": "stream",
          "text": [
            "(183412, 16)\n",
            "<class 'pandas.core.frame.DataFrame'>\n",
            "RangeIndex: 183412 entries, 0 to 183411\n",
            "Data columns (total 16 columns):\n",
            " #   Column                   Non-Null Count   Dtype  \n",
            "---  ------                   --------------   -----  \n",
            " 0   duration_sec             183412 non-null  int64  \n",
            " 1   start_time               183412 non-null  object \n",
            " 2   end_time                 183412 non-null  object \n",
            " 3   start_station_id         183215 non-null  float64\n",
            " 4   start_station_name       183215 non-null  object \n",
            " 5   start_station_latitude   183412 non-null  float64\n",
            " 6   start_station_longitude  183412 non-null  float64\n",
            " 7   end_station_id           183215 non-null  float64\n",
            " 8   end_station_name         183215 non-null  object \n",
            " 9   end_station_latitude     183412 non-null  float64\n",
            " 10  end_station_longitude    183412 non-null  float64\n",
            " 11  bike_id                  183412 non-null  int64  \n",
            " 12  user_type                183412 non-null  object \n",
            " 13  member_birth_year        175147 non-null  float64\n",
            " 14  member_gender            175147 non-null  object \n",
            " 15  bike_share_for_all_trip  183412 non-null  object \n",
            "dtypes: float64(7), int64(2), object(7)\n",
            "memory usage: 22.4+ MB\n"
          ]
        }
      ],
      "source": [
        "print(df.shape)\n",
        "df.info()"
      ]
    },
    {
      "cell_type": "code",
      "execution_count": 5,
      "metadata": {},
      "outputs": [
        {
          "data": {
            "text/plain": [
              "183412"
            ]
          },
          "execution_count": 5,
          "metadata": {},
          "output_type": "execute_result"
        }
      ],
      "source": [
        "(df['member_birth_year'].isnull()==df['member_gender'].isnull()).count()"
      ]
    },
    {
      "attachments": {},
      "cell_type": "markdown",
      "metadata": {
        "id": "vPZWH9xmljQU"
      },
      "source": [
        "This indicates that all the null values for member_birth_year and member_gender colums are on the same rows."
      ]
    },
    {
      "cell_type": "code",
      "execution_count": 6,
      "metadata": {
        "id": "zjPYUv98ljQU",
        "outputId": "c519f709-ab37-4f49-cee1-07a37ccb5e6c"
      },
      "outputs": [
        {
          "data": {
            "text/html": [
              "<div>\n",
              "<style scoped>\n",
              "    .dataframe tbody tr th:only-of-type {\n",
              "        vertical-align: middle;\n",
              "    }\n",
              "\n",
              "    .dataframe tbody tr th {\n",
              "        vertical-align: top;\n",
              "    }\n",
              "\n",
              "    .dataframe thead th {\n",
              "        text-align: right;\n",
              "    }\n",
              "</style>\n",
              "<table border=\"1\" class=\"dataframe\">\n",
              "  <thead>\n",
              "    <tr style=\"text-align: right;\">\n",
              "      <th></th>\n",
              "      <th>duration_sec</th>\n",
              "      <th>start_station_id</th>\n",
              "      <th>start_station_latitude</th>\n",
              "      <th>start_station_longitude</th>\n",
              "      <th>end_station_id</th>\n",
              "      <th>end_station_latitude</th>\n",
              "      <th>end_station_longitude</th>\n",
              "      <th>bike_id</th>\n",
              "      <th>member_birth_year</th>\n",
              "    </tr>\n",
              "  </thead>\n",
              "  <tbody>\n",
              "    <tr>\n",
              "      <th>count</th>\n",
              "      <td>183412.000000</td>\n",
              "      <td>183215.000000</td>\n",
              "      <td>183412.000000</td>\n",
              "      <td>183412.000000</td>\n",
              "      <td>183215.000000</td>\n",
              "      <td>183412.000000</td>\n",
              "      <td>183412.000000</td>\n",
              "      <td>183412.000000</td>\n",
              "      <td>175147.000000</td>\n",
              "    </tr>\n",
              "    <tr>\n",
              "      <th>mean</th>\n",
              "      <td>726.078435</td>\n",
              "      <td>138.590427</td>\n",
              "      <td>37.771223</td>\n",
              "      <td>-122.352664</td>\n",
              "      <td>136.249123</td>\n",
              "      <td>37.771427</td>\n",
              "      <td>-122.352250</td>\n",
              "      <td>4472.906375</td>\n",
              "      <td>1984.806437</td>\n",
              "    </tr>\n",
              "    <tr>\n",
              "      <th>std</th>\n",
              "      <td>1794.389780</td>\n",
              "      <td>111.778864</td>\n",
              "      <td>0.099581</td>\n",
              "      <td>0.117097</td>\n",
              "      <td>111.515131</td>\n",
              "      <td>0.099490</td>\n",
              "      <td>0.116673</td>\n",
              "      <td>1664.383394</td>\n",
              "      <td>10.116689</td>\n",
              "    </tr>\n",
              "    <tr>\n",
              "      <th>min</th>\n",
              "      <td>61.000000</td>\n",
              "      <td>3.000000</td>\n",
              "      <td>37.317298</td>\n",
              "      <td>-122.453704</td>\n",
              "      <td>3.000000</td>\n",
              "      <td>37.317298</td>\n",
              "      <td>-122.453704</td>\n",
              "      <td>11.000000</td>\n",
              "      <td>1878.000000</td>\n",
              "    </tr>\n",
              "    <tr>\n",
              "      <th>25%</th>\n",
              "      <td>325.000000</td>\n",
              "      <td>47.000000</td>\n",
              "      <td>37.770083</td>\n",
              "      <td>-122.412408</td>\n",
              "      <td>44.000000</td>\n",
              "      <td>37.770407</td>\n",
              "      <td>-122.411726</td>\n",
              "      <td>3777.000000</td>\n",
              "      <td>1980.000000</td>\n",
              "    </tr>\n",
              "    <tr>\n",
              "      <th>50%</th>\n",
              "      <td>514.000000</td>\n",
              "      <td>104.000000</td>\n",
              "      <td>37.780760</td>\n",
              "      <td>-122.398285</td>\n",
              "      <td>100.000000</td>\n",
              "      <td>37.781010</td>\n",
              "      <td>-122.398279</td>\n",
              "      <td>4958.000000</td>\n",
              "      <td>1987.000000</td>\n",
              "    </tr>\n",
              "    <tr>\n",
              "      <th>75%</th>\n",
              "      <td>796.000000</td>\n",
              "      <td>239.000000</td>\n",
              "      <td>37.797280</td>\n",
              "      <td>-122.286533</td>\n",
              "      <td>235.000000</td>\n",
              "      <td>37.797320</td>\n",
              "      <td>-122.288045</td>\n",
              "      <td>5502.000000</td>\n",
              "      <td>1992.000000</td>\n",
              "    </tr>\n",
              "    <tr>\n",
              "      <th>max</th>\n",
              "      <td>85444.000000</td>\n",
              "      <td>398.000000</td>\n",
              "      <td>37.880222</td>\n",
              "      <td>-121.874119</td>\n",
              "      <td>398.000000</td>\n",
              "      <td>37.880222</td>\n",
              "      <td>-121.874119</td>\n",
              "      <td>6645.000000</td>\n",
              "      <td>2001.000000</td>\n",
              "    </tr>\n",
              "  </tbody>\n",
              "</table>\n",
              "</div>"
            ],
            "text/plain": [
              "        duration_sec  start_station_id  start_station_latitude  \\\n",
              "count  183412.000000     183215.000000           183412.000000   \n",
              "mean      726.078435        138.590427               37.771223   \n",
              "std      1794.389780        111.778864                0.099581   \n",
              "min        61.000000          3.000000               37.317298   \n",
              "25%       325.000000         47.000000               37.770083   \n",
              "50%       514.000000        104.000000               37.780760   \n",
              "75%       796.000000        239.000000               37.797280   \n",
              "max     85444.000000        398.000000               37.880222   \n",
              "\n",
              "       start_station_longitude  end_station_id  end_station_latitude  \\\n",
              "count            183412.000000   183215.000000         183412.000000   \n",
              "mean               -122.352664      136.249123             37.771427   \n",
              "std                   0.117097      111.515131              0.099490   \n",
              "min                -122.453704        3.000000             37.317298   \n",
              "25%                -122.412408       44.000000             37.770407   \n",
              "50%                -122.398285      100.000000             37.781010   \n",
              "75%                -122.286533      235.000000             37.797320   \n",
              "max                -121.874119      398.000000             37.880222   \n",
              "\n",
              "       end_station_longitude        bike_id  member_birth_year  \n",
              "count          183412.000000  183412.000000      175147.000000  \n",
              "mean             -122.352250    4472.906375        1984.806437  \n",
              "std                 0.116673    1664.383394          10.116689  \n",
              "min              -122.453704      11.000000        1878.000000  \n",
              "25%              -122.411726    3777.000000        1980.000000  \n",
              "50%              -122.398279    4958.000000        1987.000000  \n",
              "75%              -122.288045    5502.000000        1992.000000  \n",
              "max              -121.874119    6645.000000        2001.000000  "
            ]
          },
          "execution_count": 6,
          "metadata": {},
          "output_type": "execute_result"
        }
      ],
      "source": [
        "df.describe()"
      ]
    },
    {
      "cell_type": "code",
      "execution_count": 7,
      "metadata": {
        "id": "UFKjALjCljQV",
        "outputId": "09cc35b2-049d-458c-c5db-830dcf0a7ea6"
      },
      "outputs": [
        {
          "data": {
            "text/html": [
              "<div>\n",
              "<style scoped>\n",
              "    .dataframe tbody tr th:only-of-type {\n",
              "        vertical-align: middle;\n",
              "    }\n",
              "\n",
              "    .dataframe tbody tr th {\n",
              "        vertical-align: top;\n",
              "    }\n",
              "\n",
              "    .dataframe thead th {\n",
              "        text-align: right;\n",
              "    }\n",
              "</style>\n",
              "<table border=\"1\" class=\"dataframe\">\n",
              "  <thead>\n",
              "    <tr style=\"text-align: right;\">\n",
              "      <th></th>\n",
              "      <th>duration_sec</th>\n",
              "      <th>start_time</th>\n",
              "      <th>end_time</th>\n",
              "      <th>start_station_id</th>\n",
              "      <th>start_station_name</th>\n",
              "      <th>start_station_latitude</th>\n",
              "      <th>start_station_longitude</th>\n",
              "      <th>end_station_id</th>\n",
              "      <th>end_station_name</th>\n",
              "      <th>end_station_latitude</th>\n",
              "      <th>end_station_longitude</th>\n",
              "      <th>bike_id</th>\n",
              "      <th>user_type</th>\n",
              "      <th>member_birth_year</th>\n",
              "      <th>member_gender</th>\n",
              "      <th>bike_share_for_all_trip</th>\n",
              "    </tr>\n",
              "  </thead>\n",
              "  <tbody>\n",
              "    <tr>\n",
              "      <th>27370</th>\n",
              "      <td>1474</td>\n",
              "      <td>2019-02-25 09:28:42.1610</td>\n",
              "      <td>2019-02-25 09:53:17.0680</td>\n",
              "      <td>15.0</td>\n",
              "      <td>San Francisco Ferry Building (Harry Bridges Pl...</td>\n",
              "      <td>37.795392</td>\n",
              "      <td>-122.394203</td>\n",
              "      <td>386.0</td>\n",
              "      <td>24th St at Bartlett St</td>\n",
              "      <td>37.752105</td>\n",
              "      <td>-122.419724</td>\n",
              "      <td>6436</td>\n",
              "      <td>Customer</td>\n",
              "      <td>1878.0</td>\n",
              "      <td>Female</td>\n",
              "      <td>No</td>\n",
              "    </tr>\n",
              "  </tbody>\n",
              "</table>\n",
              "</div>"
            ],
            "text/plain": [
              "       duration_sec                start_time                  end_time  \\\n",
              "27370          1474  2019-02-25 09:28:42.1610  2019-02-25 09:53:17.0680   \n",
              "\n",
              "       start_station_id                                 start_station_name  \\\n",
              "27370              15.0  San Francisco Ferry Building (Harry Bridges Pl...   \n",
              "\n",
              "       start_station_latitude  start_station_longitude  end_station_id  \\\n",
              "27370               37.795392              -122.394203           386.0   \n",
              "\n",
              "             end_station_name  end_station_latitude  end_station_longitude  \\\n",
              "27370  24th St at Bartlett St             37.752105            -122.419724   \n",
              "\n",
              "       bike_id user_type  member_birth_year member_gender  \\\n",
              "27370     6436  Customer             1878.0        Female   \n",
              "\n",
              "      bike_share_for_all_trip  \n",
              "27370                      No  "
            ]
          },
          "execution_count": 7,
          "metadata": {},
          "output_type": "execute_result"
        }
      ],
      "source": [
        "df[df['member_birth_year']== 1878]"
      ]
    },
    {
      "cell_type": "code",
      "execution_count": 8,
      "metadata": {
        "id": "oBpMbE7QljQV"
      },
      "outputs": [],
      "source": [
        "df.drop(df[df['member_birth_year']== 1878].index,inplace=True)"
      ]
    },
    {
      "cell_type": "code",
      "execution_count": 9,
      "metadata": {
        "id": "B-aGRFYyljQW",
        "outputId": "1e4c079a-3a31-4584-f2f1-beb2aed4dcbf"
      },
      "outputs": [
        {
          "name": "stdout",
          "output_type": "stream",
          "text": [
            "Total number of stations : 329\n",
            "Total number of bikes : 4646\n"
          ]
        }
      ],
      "source": [
        "print('Total number of stations :' , df['start_station_name'].value_counts().count())\n",
        "print('Total number of bikes :', df['bike_id'].value_counts().count())"
      ]
    },
    {
      "attachments": {},
      "cell_type": "markdown",
      "metadata": {
        "id": "v94Srjp1ljQW"
      },
      "source": [
        "There is a total of 4646 bikes and 329 stations."
      ]
    },
    {
      "cell_type": "code",
      "execution_count": 10,
      "metadata": {
        "id": "VPOGxjYgljQY"
      },
      "outputs": [],
      "source": [
        "df['bike_id']=df['bike_id'].apply(str)"
      ]
    },
    {
      "cell_type": "code",
      "execution_count": 11,
      "metadata": {
        "id": "nA4n2xfhljQX",
        "outputId": "b7e8996b-dbbe-4262-ba7b-376863957ac3"
      },
      "outputs": [
        {
          "name": "stdout",
          "output_type": "stream",
          "text": [
            "Total number of stations : 329\n",
            "Total number of bikes : 4646\n"
          ]
        }
      ],
      "source": [
        "print('Total number of stations :' , df['start_station_name'].value_counts().count())\n",
        "print('Total number of bikes :', df['bike_id'].value_counts().count())"
      ]
    },
    {
      "attachments": {},
      "cell_type": "markdown",
      "metadata": {
        "id": "fWbqf-_AljQX"
      },
      "source": [
        "- After deleting the rows with missing values. There is 4606 bikes present in the dataset.<br> This means there is a total of 40 bikes id deleted, this is less than 1% of the total bikes so this should not really affect the analysis.\n",
        "- The total number of stations is still the same."
      ]
    },
    {
      "cell_type": "code",
      "execution_count": 12,
      "metadata": {
        "id": "nJyCJGRsljQY",
        "outputId": "c244a29f-5f6a-4450-bce0-419a3b968294"
      },
      "outputs": [
        {
          "name": "stdout",
          "output_type": "stream",
          "text": [
            "<class 'pandas.core.frame.DataFrame'>\n",
            "Int64Index: 183411 entries, 0 to 183411\n",
            "Data columns (total 16 columns):\n",
            " #   Column                   Non-Null Count   Dtype  \n",
            "---  ------                   --------------   -----  \n",
            " 0   duration_sec             183411 non-null  int64  \n",
            " 1   start_time               183411 non-null  object \n",
            " 2   end_time                 183411 non-null  object \n",
            " 3   start_station_id         183214 non-null  float64\n",
            " 4   start_station_name       183214 non-null  object \n",
            " 5   start_station_latitude   183411 non-null  float64\n",
            " 6   start_station_longitude  183411 non-null  float64\n",
            " 7   end_station_id           183214 non-null  float64\n",
            " 8   end_station_name         183214 non-null  object \n",
            " 9   end_station_latitude     183411 non-null  float64\n",
            " 10  end_station_longitude    183411 non-null  float64\n",
            " 11  bike_id                  183411 non-null  object \n",
            " 12  user_type                183411 non-null  object \n",
            " 13  member_birth_year        175146 non-null  float64\n",
            " 14  member_gender            175146 non-null  object \n",
            " 15  bike_share_for_all_trip  183411 non-null  object \n",
            "dtypes: float64(7), int64(1), object(8)\n",
            "memory usage: 23.8+ MB\n"
          ]
        }
      ],
      "source": [
        "df.info()"
      ]
    },
    {
      "attachments": {},
      "cell_type": "markdown",
      "metadata": {
        "id": "iy6jI9b-jVbW"
      },
      "source": [
        "**After Some exploration to the data we going to remove the unwanted columns**"
      ]
    },
    {
      "cell_type": "code",
      "execution_count": 13,
      "metadata": {
        "id": "DDmGR7n6ljQZ"
      },
      "outputs": [],
      "source": [
        "#we want to find the disatance between the start_station and end_station for each trip.\n",
        "\n",
        "lat_1 = df['start_station_latitude']/(180/np.pi)\n",
        "lat_2 = df['end_station_latitude']/(180/np.pi)\n",
        "lon_1 = df['start_station_longitude']/(180/np.pi)\n",
        "lon_2 = df['end_station_longitude']/(180/np.pi)\n",
        "\n",
        "dlon = lon_2 - lon_1\n",
        "dlat = lat_2 - lat_1\n",
        "\n",
        "a = np.sin(dlat / 2)**2 + np.cos(lat_1) * np.cos(lat_2) * np.sin(dlon / 2)**2\n",
        "c = 2 * (np.arcsin(np.sqrt(a)))\n",
        "r= 6371\n",
        "df['distance/Km'] = c*6371"
      ]
    },
    {
      "cell_type": "code",
      "execution_count": 14,
      "metadata": {
        "id": "6Gx-wGyXljQa"
      },
      "outputs": [],
      "source": [
        "df.drop(columns=['start_station_id','start_station_latitude','start_station_longitude','end_station_latitude','end_station_longitude','end_station_id'],inplace=True)"
      ]
    },
    {
      "cell_type": "code",
      "execution_count": 15,
      "metadata": {
        "id": "KukWtA0VljQa",
        "outputId": "0150fe68-359a-4e3e-b88e-d290dd6a384c"
      },
      "outputs": [
        {
          "data": {
            "text/html": [
              "<div>\n",
              "<style scoped>\n",
              "    .dataframe tbody tr th:only-of-type {\n",
              "        vertical-align: middle;\n",
              "    }\n",
              "\n",
              "    .dataframe tbody tr th {\n",
              "        vertical-align: top;\n",
              "    }\n",
              "\n",
              "    .dataframe thead th {\n",
              "        text-align: right;\n",
              "    }\n",
              "</style>\n",
              "<table border=\"1\" class=\"dataframe\">\n",
              "  <thead>\n",
              "    <tr style=\"text-align: right;\">\n",
              "      <th></th>\n",
              "      <th>duration_sec</th>\n",
              "      <th>start_time</th>\n",
              "      <th>end_time</th>\n",
              "      <th>start_station_name</th>\n",
              "      <th>end_station_name</th>\n",
              "      <th>bike_id</th>\n",
              "      <th>user_type</th>\n",
              "      <th>member_birth_year</th>\n",
              "      <th>member_gender</th>\n",
              "      <th>bike_share_for_all_trip</th>\n",
              "      <th>distance/Km</th>\n",
              "    </tr>\n",
              "  </thead>\n",
              "  <tbody>\n",
              "    <tr>\n",
              "      <th>0</th>\n",
              "      <td>52185</td>\n",
              "      <td>2019-02-28 17:32:10.1450</td>\n",
              "      <td>2019-03-01 08:01:55.9750</td>\n",
              "      <td>Montgomery St BART Station (Market St at 2nd St)</td>\n",
              "      <td>Commercial St at Montgomery St</td>\n",
              "      <td>4902</td>\n",
              "      <td>Customer</td>\n",
              "      <td>1984.0</td>\n",
              "      <td>Male</td>\n",
              "      <td>No</td>\n",
              "      <td>0.54</td>\n",
              "    </tr>\n",
              "    <tr>\n",
              "      <th>1</th>\n",
              "      <td>42521</td>\n",
              "      <td>2019-02-28 18:53:21.7890</td>\n",
              "      <td>2019-03-01 06:42:03.0560</td>\n",
              "      <td>The Embarcadero at Steuart St</td>\n",
              "      <td>Berry St at 4th St</td>\n",
              "      <td>2535</td>\n",
              "      <td>Customer</td>\n",
              "      <td>NaN</td>\n",
              "      <td>NaN</td>\n",
              "      <td>No</td>\n",
              "      <td>1.74</td>\n",
              "    </tr>\n",
              "    <tr>\n",
              "      <th>2</th>\n",
              "      <td>61854</td>\n",
              "      <td>2019-02-28 12:13:13.2180</td>\n",
              "      <td>2019-03-01 05:24:08.1460</td>\n",
              "      <td>Market St at Dolores St</td>\n",
              "      <td>Powell St BART Station (Market St at 4th St)</td>\n",
              "      <td>5905</td>\n",
              "      <td>Customer</td>\n",
              "      <td>1972.0</td>\n",
              "      <td>Male</td>\n",
              "      <td>No</td>\n",
              "      <td>2.70</td>\n",
              "    </tr>\n",
              "    <tr>\n",
              "      <th>3</th>\n",
              "      <td>36490</td>\n",
              "      <td>2019-02-28 17:54:26.0100</td>\n",
              "      <td>2019-03-01 04:02:36.8420</td>\n",
              "      <td>Grove St at Masonic Ave</td>\n",
              "      <td>Central Ave at Fell St</td>\n",
              "      <td>6638</td>\n",
              "      <td>Subscriber</td>\n",
              "      <td>1989.0</td>\n",
              "      <td>Other</td>\n",
              "      <td>No</td>\n",
              "      <td>0.26</td>\n",
              "    </tr>\n",
              "    <tr>\n",
              "      <th>4</th>\n",
              "      <td>1585</td>\n",
              "      <td>2019-02-28 23:54:18.5490</td>\n",
              "      <td>2019-03-01 00:20:44.0740</td>\n",
              "      <td>Frank H Ogawa Plaza</td>\n",
              "      <td>10th Ave at E 15th St</td>\n",
              "      <td>4898</td>\n",
              "      <td>Subscriber</td>\n",
              "      <td>1974.0</td>\n",
              "      <td>Male</td>\n",
              "      <td>Yes</td>\n",
              "      <td>2.41</td>\n",
              "    </tr>\n",
              "  </tbody>\n",
              "</table>\n",
              "</div>"
            ],
            "text/plain": [
              "   duration_sec                start_time                  end_time  \\\n",
              "0         52185  2019-02-28 17:32:10.1450  2019-03-01 08:01:55.9750   \n",
              "1         42521  2019-02-28 18:53:21.7890  2019-03-01 06:42:03.0560   \n",
              "2         61854  2019-02-28 12:13:13.2180  2019-03-01 05:24:08.1460   \n",
              "3         36490  2019-02-28 17:54:26.0100  2019-03-01 04:02:36.8420   \n",
              "4          1585  2019-02-28 23:54:18.5490  2019-03-01 00:20:44.0740   \n",
              "\n",
              "                                 start_station_name  \\\n",
              "0  Montgomery St BART Station (Market St at 2nd St)   \n",
              "1                     The Embarcadero at Steuart St   \n",
              "2                           Market St at Dolores St   \n",
              "3                           Grove St at Masonic Ave   \n",
              "4                               Frank H Ogawa Plaza   \n",
              "\n",
              "                               end_station_name bike_id   user_type  \\\n",
              "0                Commercial St at Montgomery St    4902    Customer   \n",
              "1                            Berry St at 4th St    2535    Customer   \n",
              "2  Powell St BART Station (Market St at 4th St)    5905    Customer   \n",
              "3                        Central Ave at Fell St    6638  Subscriber   \n",
              "4                         10th Ave at E 15th St    4898  Subscriber   \n",
              "\n",
              "   member_birth_year member_gender bike_share_for_all_trip  distance/Km  \n",
              "0             1984.0          Male                      No         0.54  \n",
              "1                NaN           NaN                      No         1.74  \n",
              "2             1972.0          Male                      No         2.70  \n",
              "3             1989.0         Other                      No         0.26  \n",
              "4             1974.0          Male                     Yes         2.41  "
            ]
          },
          "execution_count": 15,
          "metadata": {},
          "output_type": "execute_result"
        }
      ],
      "source": [
        "df['distance/Km']=df['distance/Km'].round(decimals=2)\n",
        "df.head()"
      ]
    },
    {
      "cell_type": "code",
      "execution_count": 16,
      "metadata": {
        "id": "ou0AddoQljQa"
      },
      "outputs": [],
      "source": [
        "df['start_time'] = pd.to_datetime(df['start_time'])\n",
        "df['end_time'] = pd.to_datetime(df['end_time'])"
      ]
    },
    {
      "cell_type": "code",
      "execution_count": 17,
      "metadata": {
        "id": "OM_n8oWiljQa"
      },
      "outputs": [],
      "source": [
        "df['start_day']= df['start_time'].dt.day_name()\n",
        "df['start_hour']= df['start_time'].dt.hour\n"
      ]
    },
    {
      "cell_type": "code",
      "execution_count": 18,
      "metadata": {
        "id": "91jxS2dDljQb",
        "outputId": "ffc1341f-f6a5-4928-933e-f00a0f876ccc"
      },
      "outputs": [
        {
          "data": {
            "text/html": [
              "<div>\n",
              "<style scoped>\n",
              "    .dataframe tbody tr th:only-of-type {\n",
              "        vertical-align: middle;\n",
              "    }\n",
              "\n",
              "    .dataframe tbody tr th {\n",
              "        vertical-align: top;\n",
              "    }\n",
              "\n",
              "    .dataframe thead th {\n",
              "        text-align: right;\n",
              "    }\n",
              "</style>\n",
              "<table border=\"1\" class=\"dataframe\">\n",
              "  <thead>\n",
              "    <tr style=\"text-align: right;\">\n",
              "      <th></th>\n",
              "      <th>duration_sec</th>\n",
              "      <th>start_time</th>\n",
              "      <th>end_time</th>\n",
              "      <th>start_station_name</th>\n",
              "      <th>end_station_name</th>\n",
              "      <th>bike_id</th>\n",
              "      <th>user_type</th>\n",
              "      <th>member_birth_year</th>\n",
              "      <th>member_gender</th>\n",
              "      <th>bike_share_for_all_trip</th>\n",
              "      <th>distance/Km</th>\n",
              "      <th>start_day</th>\n",
              "      <th>start_hour</th>\n",
              "      <th>duration</th>\n",
              "    </tr>\n",
              "  </thead>\n",
              "  <tbody>\n",
              "    <tr>\n",
              "      <th>0</th>\n",
              "      <td>52185</td>\n",
              "      <td>2019-02-28 17:32:10.145</td>\n",
              "      <td>2019-03-01 08:01:55.975</td>\n",
              "      <td>Montgomery St BART Station (Market St at 2nd St)</td>\n",
              "      <td>Commercial St at Montgomery St</td>\n",
              "      <td>4902</td>\n",
              "      <td>Customer</td>\n",
              "      <td>1984.0</td>\n",
              "      <td>Male</td>\n",
              "      <td>No</td>\n",
              "      <td>0.54</td>\n",
              "      <td>Thursday</td>\n",
              "      <td>17</td>\n",
              "      <td>0 days 14:29:45</td>\n",
              "    </tr>\n",
              "    <tr>\n",
              "      <th>1</th>\n",
              "      <td>42521</td>\n",
              "      <td>2019-02-28 18:53:21.789</td>\n",
              "      <td>2019-03-01 06:42:03.056</td>\n",
              "      <td>The Embarcadero at Steuart St</td>\n",
              "      <td>Berry St at 4th St</td>\n",
              "      <td>2535</td>\n",
              "      <td>Customer</td>\n",
              "      <td>NaN</td>\n",
              "      <td>NaN</td>\n",
              "      <td>No</td>\n",
              "      <td>1.74</td>\n",
              "      <td>Thursday</td>\n",
              "      <td>18</td>\n",
              "      <td>0 days 11:48:41</td>\n",
              "    </tr>\n",
              "    <tr>\n",
              "      <th>2</th>\n",
              "      <td>61854</td>\n",
              "      <td>2019-02-28 12:13:13.218</td>\n",
              "      <td>2019-03-01 05:24:08.146</td>\n",
              "      <td>Market St at Dolores St</td>\n",
              "      <td>Powell St BART Station (Market St at 4th St)</td>\n",
              "      <td>5905</td>\n",
              "      <td>Customer</td>\n",
              "      <td>1972.0</td>\n",
              "      <td>Male</td>\n",
              "      <td>No</td>\n",
              "      <td>2.70</td>\n",
              "      <td>Thursday</td>\n",
              "      <td>12</td>\n",
              "      <td>0 days 17:10:54</td>\n",
              "    </tr>\n",
              "    <tr>\n",
              "      <th>3</th>\n",
              "      <td>36490</td>\n",
              "      <td>2019-02-28 17:54:26.010</td>\n",
              "      <td>2019-03-01 04:02:36.842</td>\n",
              "      <td>Grove St at Masonic Ave</td>\n",
              "      <td>Central Ave at Fell St</td>\n",
              "      <td>6638</td>\n",
              "      <td>Subscriber</td>\n",
              "      <td>1989.0</td>\n",
              "      <td>Other</td>\n",
              "      <td>No</td>\n",
              "      <td>0.26</td>\n",
              "      <td>Thursday</td>\n",
              "      <td>17</td>\n",
              "      <td>0 days 10:08:10</td>\n",
              "    </tr>\n",
              "    <tr>\n",
              "      <th>4</th>\n",
              "      <td>1585</td>\n",
              "      <td>2019-02-28 23:54:18.549</td>\n",
              "      <td>2019-03-01 00:20:44.074</td>\n",
              "      <td>Frank H Ogawa Plaza</td>\n",
              "      <td>10th Ave at E 15th St</td>\n",
              "      <td>4898</td>\n",
              "      <td>Subscriber</td>\n",
              "      <td>1974.0</td>\n",
              "      <td>Male</td>\n",
              "      <td>Yes</td>\n",
              "      <td>2.41</td>\n",
              "      <td>Thursday</td>\n",
              "      <td>23</td>\n",
              "      <td>0 days 00:26:25</td>\n",
              "    </tr>\n",
              "  </tbody>\n",
              "</table>\n",
              "</div>"
            ],
            "text/plain": [
              "   duration_sec              start_time                end_time  \\\n",
              "0         52185 2019-02-28 17:32:10.145 2019-03-01 08:01:55.975   \n",
              "1         42521 2019-02-28 18:53:21.789 2019-03-01 06:42:03.056   \n",
              "2         61854 2019-02-28 12:13:13.218 2019-03-01 05:24:08.146   \n",
              "3         36490 2019-02-28 17:54:26.010 2019-03-01 04:02:36.842   \n",
              "4          1585 2019-02-28 23:54:18.549 2019-03-01 00:20:44.074   \n",
              "\n",
              "                                 start_station_name  \\\n",
              "0  Montgomery St BART Station (Market St at 2nd St)   \n",
              "1                     The Embarcadero at Steuart St   \n",
              "2                           Market St at Dolores St   \n",
              "3                           Grove St at Masonic Ave   \n",
              "4                               Frank H Ogawa Plaza   \n",
              "\n",
              "                               end_station_name bike_id   user_type  \\\n",
              "0                Commercial St at Montgomery St    4902    Customer   \n",
              "1                            Berry St at 4th St    2535    Customer   \n",
              "2  Powell St BART Station (Market St at 4th St)    5905    Customer   \n",
              "3                        Central Ave at Fell St    6638  Subscriber   \n",
              "4                         10th Ave at E 15th St    4898  Subscriber   \n",
              "\n",
              "   member_birth_year member_gender bike_share_for_all_trip  distance/Km  \\\n",
              "0             1984.0          Male                      No         0.54   \n",
              "1                NaN           NaN                      No         1.74   \n",
              "2             1972.0          Male                      No         2.70   \n",
              "3             1989.0         Other                      No         0.26   \n",
              "4             1974.0          Male                     Yes         2.41   \n",
              "\n",
              "  start_day  start_hour        duration  \n",
              "0  Thursday          17 0 days 14:29:45  \n",
              "1  Thursday          18 0 days 11:48:41  \n",
              "2  Thursday          12 0 days 17:10:54  \n",
              "3  Thursday          17 0 days 10:08:10  \n",
              "4  Thursday          23 0 days 00:26:25  "
            ]
          },
          "execution_count": 18,
          "metadata": {},
          "output_type": "execute_result"
        }
      ],
      "source": [
        "df['duration'] = pd.to_timedelta(df['duration_sec'], unit='s')\n",
        "df.head()"
      ]
    },
    {
      "cell_type": "code",
      "execution_count": 19,
      "metadata": {
        "id": "TINUUfb6ljQb"
      },
      "outputs": [],
      "source": [
        "df['age']= df.start_time.dt.year - df.member_birth_year"
      ]
    },
    {
      "cell_type": "code",
      "execution_count": 26,
      "metadata": {
        "id": "X1UFDss3ljQb",
        "outputId": "fe4b3b69-bb70-4c78-d232-abc29891be76"
      },
      "outputs": [],
      "source": [
        "#Replace the position of the columns in the dataframe to look more organized.\n",
        "df.insert(0,'duration', df.pop('duration'))\n",
        "df.insert(9,'age', df.pop('age'))\n",
        "df.insert(3,'start_day',df.pop('start_day'))\n",
        "df.insert(4,'start_hour',df.pop('start_hour'))\n"
      ]
    },
    {
      "cell_type": "code",
      "execution_count": 21,
      "metadata": {
        "id": "hRmX7Lm3ljQc",
        "outputId": "0a9b44e3-095c-46aa-b6ce-53ada8dae7ee"
      },
      "outputs": [
        {
          "name": "stdout",
          "output_type": "stream",
          "text": [
            "<class 'pandas.core.frame.DataFrame'>\n",
            "Int64Index: 183411 entries, 0 to 183411\n",
            "Data columns (total 15 columns):\n",
            " #   Column                   Non-Null Count   Dtype          \n",
            "---  ------                   --------------   -----          \n",
            " 0   duration                 183411 non-null  timedelta64[ns]\n",
            " 1   duration_sec             183411 non-null  int64          \n",
            " 2   start_time               183411 non-null  datetime64[ns] \n",
            " 3   start_day                183411 non-null  object         \n",
            " 4   start_hour               183411 non-null  int64          \n",
            " 5   end_time                 183411 non-null  datetime64[ns] \n",
            " 6   start_station_name       183214 non-null  object         \n",
            " 7   end_station_name         183214 non-null  object         \n",
            " 8   bike_id                  183411 non-null  object         \n",
            " 9   user_type                183411 non-null  object         \n",
            " 10  member_birth_year        175146 non-null  float64        \n",
            " 11  age                      175146 non-null  float64        \n",
            " 12  member_gender            175146 non-null  object         \n",
            " 13  bike_share_for_all_trip  183411 non-null  object         \n",
            " 14  distance/Km              183411 non-null  float64        \n",
            "dtypes: datetime64[ns](2), float64(3), int64(2), object(7), timedelta64[ns](1)\n",
            "memory usage: 22.4+ MB\n"
          ]
        }
      ],
      "source": [
        "df.info()"
      ]
    },
    {
      "cell_type": "code",
      "execution_count": 22,
      "metadata": {},
      "outputs": [],
      "source": [
        " df.drop(df[df['start_station_name'].isnull()].index, inplace=True)"
      ]
    },
    {
      "cell_type": "code",
      "execution_count": 23,
      "metadata": {},
      "outputs": [
        {
          "data": {
            "text/plain": [
              "duration                      0\n",
              "duration_sec                  0\n",
              "start_time                    0\n",
              "start_day                     0\n",
              "start_hour                    0\n",
              "end_time                      0\n",
              "start_station_name            0\n",
              "end_station_name              0\n",
              "bike_id                       0\n",
              "user_type                     0\n",
              "member_birth_year          8263\n",
              "age                        8263\n",
              "member_gender              8263\n",
              "bike_share_for_all_trip       0\n",
              "distance/Km                   0\n",
              "dtype: int64"
            ]
          },
          "execution_count": 23,
          "metadata": {},
          "output_type": "execute_result"
        }
      ],
      "source": [
        "df.isna().sum()"
      ]
    },
    {
      "attachments": {},
      "cell_type": "markdown",
      "metadata": {},
      "source": [
        "We deleted the rows with missing values on the start_station_name and end_station_name as they are only 197 rows and would not affect the analysis.<br> Now there are 8263 rows with missing values of age and membr_gender. We will predict the missing values using datawig."
      ]
    },
    {
      "cell_type": "code",
      "execution_count": 37,
      "metadata": {},
      "outputs": [
        {
          "data": {
            "text/html": [
              "<div>\n",
              "<style scoped>\n",
              "    .dataframe tbody tr th:only-of-type {\n",
              "        vertical-align: middle;\n",
              "    }\n",
              "\n",
              "    .dataframe tbody tr th {\n",
              "        vertical-align: top;\n",
              "    }\n",
              "\n",
              "    .dataframe thead th {\n",
              "        text-align: right;\n",
              "    }\n",
              "</style>\n",
              "<table border=\"1\" class=\"dataframe\">\n",
              "  <thead>\n",
              "    <tr style=\"text-align: right;\">\n",
              "      <th></th>\n",
              "      <th>duration_sec</th>\n",
              "      <th>start_hour</th>\n",
              "      <th>age</th>\n",
              "      <th>member_birth_year</th>\n",
              "      <th>distance/Km</th>\n",
              "    </tr>\n",
              "  </thead>\n",
              "  <tbody>\n",
              "    <tr>\n",
              "      <th>duration_sec</th>\n",
              "      <td>1.000000</td>\n",
              "      <td>0.006640</td>\n",
              "      <td>0.006015</td>\n",
              "      <td>-0.006015</td>\n",
              "      <td>0.126898</td>\n",
              "    </tr>\n",
              "    <tr>\n",
              "      <th>start_hour</th>\n",
              "      <td>0.006640</td>\n",
              "      <td>1.000000</td>\n",
              "      <td>-0.064089</td>\n",
              "      <td>0.064089</td>\n",
              "      <td>-0.068644</td>\n",
              "    </tr>\n",
              "    <tr>\n",
              "      <th>age</th>\n",
              "      <td>0.006015</td>\n",
              "      <td>-0.064089</td>\n",
              "      <td>1.000000</td>\n",
              "      <td>-1.000000</td>\n",
              "      <td>0.020084</td>\n",
              "    </tr>\n",
              "    <tr>\n",
              "      <th>member_birth_year</th>\n",
              "      <td>-0.006015</td>\n",
              "      <td>0.064089</td>\n",
              "      <td>-1.000000</td>\n",
              "      <td>1.000000</td>\n",
              "      <td>-0.020084</td>\n",
              "    </tr>\n",
              "    <tr>\n",
              "      <th>distance/Km</th>\n",
              "      <td>0.126898</td>\n",
              "      <td>-0.068644</td>\n",
              "      <td>0.020084</td>\n",
              "      <td>-0.020084</td>\n",
              "      <td>1.000000</td>\n",
              "    </tr>\n",
              "  </tbody>\n",
              "</table>\n",
              "</div>"
            ],
            "text/plain": [
              "                   duration_sec  start_hour       age  member_birth_year  \\\n",
              "duration_sec           1.000000    0.006640  0.006015          -0.006015   \n",
              "start_hour             0.006640    1.000000 -0.064089           0.064089   \n",
              "age                    0.006015   -0.064089  1.000000          -1.000000   \n",
              "member_birth_year     -0.006015    0.064089 -1.000000           1.000000   \n",
              "distance/Km            0.126898   -0.068644  0.020084          -0.020084   \n",
              "\n",
              "                   distance/Km  \n",
              "duration_sec          0.126898  \n",
              "start_hour           -0.068644  \n",
              "age                   0.020084  \n",
              "member_birth_year    -0.020084  \n",
              "distance/Km           1.000000  "
            ]
          },
          "execution_count": 37,
          "metadata": {},
          "output_type": "execute_result"
        }
      ],
      "source": [
        "df.corr()"
      ]
    },
    {
      "attachments": {},
      "cell_type": "markdown",
      "metadata": {},
      "source": [
        "From the correlation table shown above, we can see that there is no strong correlation between any of the numeric features."
      ]
    },
    {
      "cell_type": "code",
      "execution_count": 31,
      "metadata": {},
      "outputs": [],
      "source": [
        "df_pred=df[df['member_gender'].isnull()]"
      ]
    },
    {
      "attachments": {},
      "cell_type": "markdown",
      "metadata": {},
      "source": [
        "## Datawig for imputation\n",
        "We will use datawig library which is a framework used impute missing values in tables.<br>\n",
        "Datawig is a Deep Learning library developed by AWS Labs and is primarily used for missing values imputation.<br>\n",
        "DataWig currently works with only python version 3.7 and below."
      ]
    },
    {
      "cell_type": "code",
      "execution_count": 47,
      "metadata": {},
      "outputs": [],
      "source": [
        "from datawig.utils import random_split\n",
        "from datawig import SimpleImputer\n",
        "from sklearn.metrics import mean_absolute_error, mean_squared_error\n",
        "\n"
      ]
    },
    {
      "cell_type": "code",
      "execution_count": 66,
      "metadata": {},
      "outputs": [],
      "source": [
        "# Split the rows containing no null values into training and test data.\n",
        "df_train, df_test = random_split(df.dropna(), split_ratios=[0.8, 0.2])\n",
        "input_cols = ['duration_sec','start_day','start_hour', 'start_station_name','distance/Km','user_type']\n",
        "output_age = 'age' # Numerical output\n",
        "output_gender = 'member_gender' # Categorical output"
      ]
    },
    {
      "cell_type": "code",
      "execution_count": 39,
      "metadata": {},
      "outputs": [],
      "source": [
        "# Initialize imputer for numerical imputation\n",
        "imputer_age = SimpleImputer(\n",
        "                 input_columns=input_cols,\n",
        "                 output_column=output_age,  # Column to be imputed\n",
        "                 output_path='imputer_age'  # Store model, data, and metrics\n",
        "                 )\n",
        "\n",
        "# Initialize imputer for categorical imputation\n",
        "imputer_gender = SimpleImputer(\n",
        "                 input_columns=input_cols,\n",
        "                 output_column=output_gender,  # Column to be imputed\n",
        "                 output_path='imputer_gender'  # Store model, data, and metrics\n",
        "                 )"
      ]
    },
    {
      "cell_type": "code",
      "execution_count": 40,
      "metadata": {},
      "outputs": [
        {
          "name": "stderr",
          "output_type": "stream",
          "text": [
            "2023-01-05 08:51:45,936 [INFO]  \n",
            "========== start: fit model\n",
            "2023-01-05 08:51:45,959 [WARNING]  Already bound, ignoring bind()\n",
            "2023-01-05 08:52:16,918 [INFO]  Epoch[0] Batch [0-3937]\tSpeed: 2038.12 samples/sec\tcross-entropy=15.228501\tage-accuracy=0.000000\n",
            "2023-01-05 08:52:48,208 [INFO]  Epoch[0] Train-cross-entropy=15.022992\n",
            "2023-01-05 08:52:48,209 [INFO]  Epoch[0] Train-age-accuracy=0.000000\n",
            "2023-01-05 08:52:48,210 [INFO]  Epoch[0] Time cost=62.236\n",
            "2023-01-05 08:52:48,623 [INFO]  Saved checkpoint to \"imputer_age\\model-0000.params\"\n",
            "2023-01-05 08:52:53,583 [INFO]  Epoch[0] Validation-cross-entropy=14.643365\n",
            "2023-01-05 08:52:53,586 [INFO]  Epoch[0] Validation-age-accuracy=0.000000\n",
            "2023-01-05 08:53:25,924 [INFO]  Epoch[1] Batch [0-3937]\tSpeed: 1948.42 samples/sec\tcross-entropy=14.671208\tage-accuracy=0.000000\n",
            "2023-01-05 08:53:58,991 [INFO]  Epoch[1] Train-cross-entropy=14.696787\n",
            "2023-01-05 08:53:58,992 [INFO]  Epoch[1] Train-age-accuracy=0.000000\n",
            "2023-01-05 08:53:58,994 [INFO]  Epoch[1] Time cost=65.407\n",
            "2023-01-05 08:53:59,006 [INFO]  Saved checkpoint to \"imputer_age\\model-0001.params\"\n",
            "2023-01-05 08:54:04,079 [INFO]  Epoch[1] Validation-cross-entropy=14.604668\n",
            "2023-01-05 08:54:04,080 [INFO]  Epoch[1] Validation-age-accuracy=0.000000\n",
            "2023-01-05 08:54:36,944 [INFO]  Epoch[2] Batch [0-3937]\tSpeed: 1917.38 samples/sec\tcross-entropy=14.636785\tage-accuracy=0.000000\n",
            "2023-01-05 08:55:09,172 [INFO]  Epoch[2] Train-cross-entropy=14.660076\n",
            "2023-01-05 08:55:09,173 [INFO]  Epoch[2] Train-age-accuracy=0.000000\n",
            "2023-01-05 08:55:09,174 [INFO]  Epoch[2] Time cost=65.092\n",
            "2023-01-05 08:55:09,187 [INFO]  Saved checkpoint to \"imputer_age\\model-0002.params\"\n",
            "2023-01-05 08:55:14,303 [INFO]  Epoch[2] Validation-cross-entropy=14.583214\n",
            "2023-01-05 08:55:14,304 [INFO]  Epoch[2] Validation-age-accuracy=0.000000\n",
            "2023-01-05 08:55:47,245 [INFO]  Epoch[3] Batch [0-3937]\tSpeed: 1912.78 samples/sec\tcross-entropy=14.613612\tage-accuracy=0.000000\n",
            "2023-01-05 08:56:20,043 [INFO]  Epoch[3] Train-cross-entropy=14.641354\n",
            "2023-01-05 08:56:20,044 [INFO]  Epoch[3] Train-age-accuracy=0.000000\n",
            "2023-01-05 08:56:20,045 [INFO]  Epoch[3] Time cost=65.740\n",
            "2023-01-05 08:56:20,058 [INFO]  Saved checkpoint to \"imputer_age\\model-0003.params\"\n",
            "2023-01-05 08:56:25,093 [INFO]  Epoch[3] Validation-cross-entropy=14.560189\n",
            "2023-01-05 08:56:25,094 [INFO]  Epoch[3] Validation-age-accuracy=0.000000\n",
            "2023-01-05 08:56:57,635 [INFO]  Epoch[4] Batch [0-3937]\tSpeed: 1936.35 samples/sec\tcross-entropy=14.598300\tage-accuracy=0.000000\n",
            "2023-01-05 08:57:30,181 [INFO]  Epoch[4] Train-cross-entropy=14.624267\n",
            "2023-01-05 08:57:30,182 [INFO]  Epoch[4] Train-age-accuracy=0.000000\n",
            "2023-01-05 08:57:30,183 [INFO]  Epoch[4] Time cost=65.089\n",
            "2023-01-05 08:57:30,235 [INFO]  Saved checkpoint to \"imputer_age\\model-0004.params\"\n",
            "2023-01-05 08:57:35,327 [INFO]  Epoch[4] Validation-cross-entropy=14.552062\n",
            "2023-01-05 08:57:35,328 [INFO]  Epoch[4] Validation-age-accuracy=0.000000\n",
            "2023-01-05 08:58:08,420 [INFO]  Epoch[5] Batch [0-3937]\tSpeed: 1904.16 samples/sec\tcross-entropy=14.598195\tage-accuracy=0.000000\n",
            "2023-01-05 08:58:41,477 [INFO]  Epoch[5] Train-cross-entropy=14.625948\n",
            "2023-01-05 08:58:41,478 [INFO]  Epoch[5] Train-age-accuracy=0.000000\n",
            "2023-01-05 08:58:41,479 [INFO]  Epoch[5] Time cost=66.150\n",
            "2023-01-05 08:58:41,493 [INFO]  Saved checkpoint to \"imputer_age\\model-0005.params\"\n",
            "2023-01-05 08:58:46,629 [INFO]  Epoch[5] Validation-cross-entropy=14.563817\n",
            "2023-01-05 08:58:46,630 [INFO]  Epoch[5] Validation-age-accuracy=0.000000\n",
            "2023-01-05 08:59:19,192 [INFO]  Epoch[6] Batch [0-3937]\tSpeed: 1935.16 samples/sec\tcross-entropy=14.597381\tage-accuracy=0.000000\n",
            "2023-01-05 08:59:52,187 [INFO]  Epoch[6] Train-cross-entropy=14.621969\n",
            "2023-01-05 08:59:52,188 [INFO]  Epoch[6] Train-age-accuracy=0.000000\n",
            "2023-01-05 08:59:52,189 [INFO]  Epoch[6] Time cost=65.558\n",
            "2023-01-05 08:59:52,201 [INFO]  Saved checkpoint to \"imputer_age\\model-0006.params\"\n",
            "2023-01-05 08:59:57,370 [INFO]  Epoch[6] Validation-cross-entropy=14.564244\n",
            "2023-01-05 08:59:57,371 [INFO]  Epoch[6] Validation-age-accuracy=0.000000\n",
            "2023-01-05 09:00:30,928 [INFO]  Epoch[7] Batch [0-3937]\tSpeed: 1877.76 samples/sec\tcross-entropy=14.593706\tage-accuracy=0.000000\n",
            "2023-01-05 09:01:03,844 [INFO]  Epoch[7] Train-cross-entropy=14.619355\n",
            "2023-01-05 09:01:03,846 [INFO]  Epoch[7] Train-age-accuracy=0.000000\n",
            "2023-01-05 09:01:03,847 [INFO]  Epoch[7] Time cost=66.476\n",
            "2023-01-05 09:01:03,859 [INFO]  Saved checkpoint to \"imputer_age\\model-0007.params\"\n",
            "2023-01-05 09:01:08,925 [INFO]  Epoch[7] Validation-cross-entropy=14.555178\n",
            "2023-01-05 09:01:08,927 [INFO]  Epoch[7] Validation-age-accuracy=0.000000\n",
            "2023-01-05 09:01:42,795 [INFO]  Epoch[8] Batch [0-3937]\tSpeed: 1860.45 samples/sec\tcross-entropy=14.588218\tage-accuracy=0.000000\n",
            "2023-01-05 09:02:16,326 [INFO]  Epoch[8] Train-cross-entropy=14.614850\n",
            "2023-01-05 09:02:16,327 [INFO]  Epoch[8] Train-age-accuracy=0.000000\n",
            "2023-01-05 09:02:16,328 [INFO]  Epoch[8] Time cost=67.400\n",
            "2023-01-05 09:02:16,339 [INFO]  Saved checkpoint to \"imputer_age\\model-0008.params\"\n",
            "2023-01-05 09:02:21,381 [INFO]  Epoch[8] Validation-cross-entropy=14.559854\n",
            "2023-01-05 09:02:21,382 [INFO]  Epoch[8] Validation-age-accuracy=0.000000\n",
            "2023-01-05 09:02:55,531 [INFO]  Epoch[9] Batch [0-3937]\tSpeed: 1845.12 samples/sec\tcross-entropy=14.588482\tage-accuracy=0.000000\n",
            "2023-01-05 09:03:29,055 [INFO]  Epoch[9] Train-cross-entropy=14.611523\n",
            "2023-01-05 09:03:29,057 [INFO]  Epoch[9] Train-age-accuracy=0.000000\n",
            "2023-01-05 09:03:29,058 [INFO]  Epoch[9] Time cost=67.675\n",
            "2023-01-05 09:03:29,071 [INFO]  Saved checkpoint to \"imputer_age\\model-0009.params\"\n",
            "2023-01-05 09:03:34,255 [INFO]  No improvement detected for 5 epochs compared to 14.552061833245414 last error obtained: 14.554942362376622, stopping here\n",
            "2023-01-05 09:03:34,256 [INFO]  \n",
            "========== done (708.3394875526428 s) fit model\n",
            "c:\\Users\\HP\\anaconda3\\envs\\myenv\\lib\\site-packages\\sklearn\\metrics\\_classification.py:1272: UndefinedMetricWarning: Precision is ill-defined and being set to 0.0 in labels with no predicted samples. Use `zero_division` parameter to control this behavior.\n",
            "  _warn_prf(average, modifier, msg_start, len(result))\n"
          ]
        },
        {
          "data": {
            "text/plain": [
              "<datawig.simple_imputer.SimpleImputer at 0x2957b90de08>"
            ]
          },
          "execution_count": 40,
          "metadata": {},
          "output_type": "execute_result"
        }
      ],
      "source": [
        "# Imputation modbel fit\n",
        "imputer_age.fit(train_df=df_train)\n",
        "imputer_gender.fit(train_df=df_train) "
      ]
    },
    {
      "cell_type": "code",
      "execution_count": 68,
      "metadata": {},
      "outputs": [],
      "source": [
        "# Predict the age and gender for the test data.\n",
        "predictions_age = imputer_age.predict(df_test)\n",
        "predictions_gender = imputer_gender.predict(df_test)\n"
      ]
    },
    {
      "cell_type": "code",
      "execution_count": 63,
      "metadata": {},
      "outputs": [
        {
          "data": {
            "text/html": [
              "<div>\n",
              "<style scoped>\n",
              "    .dataframe tbody tr th:only-of-type {\n",
              "        vertical-align: middle;\n",
              "    }\n",
              "\n",
              "    .dataframe tbody tr th {\n",
              "        vertical-align: top;\n",
              "    }\n",
              "\n",
              "    .dataframe thead th {\n",
              "        text-align: right;\n",
              "    }\n",
              "</style>\n",
              "<table border=\"1\" class=\"dataframe\">\n",
              "  <thead>\n",
              "    <tr style=\"text-align: right;\">\n",
              "      <th></th>\n",
              "      <th>duration</th>\n",
              "      <th>duration_sec</th>\n",
              "      <th>start_time</th>\n",
              "      <th>start_day</th>\n",
              "      <th>start_hour</th>\n",
              "      <th>end_time</th>\n",
              "      <th>start_station_name</th>\n",
              "      <th>end_station_name</th>\n",
              "      <th>bike_id</th>\n",
              "      <th>user_type</th>\n",
              "      <th>member_birth_year</th>\n",
              "      <th>age</th>\n",
              "      <th>member_gender</th>\n",
              "      <th>bike_share_for_all_trip</th>\n",
              "      <th>distance/Km</th>\n",
              "      <th>age_imputed</th>\n",
              "    </tr>\n",
              "  </thead>\n",
              "  <tbody>\n",
              "    <tr>\n",
              "      <th>113095</th>\n",
              "      <td>00:07:08</td>\n",
              "      <td>428</td>\n",
              "      <td>2019-02-12 13:12:48.871</td>\n",
              "      <td>Tuesday</td>\n",
              "      <td>13</td>\n",
              "      <td>2019-02-12 13:19:57.023</td>\n",
              "      <td>Steuart St at Market St</td>\n",
              "      <td>Powell St BART Station (Market St at 4th St)</td>\n",
              "      <td>4979</td>\n",
              "      <td>Subscriber</td>\n",
              "      <td>1957.0</td>\n",
              "      <td>62.0</td>\n",
              "      <td>Male</td>\n",
              "      <td>No</td>\n",
              "      <td>1.26</td>\n",
              "      <td>36.922214</td>\n",
              "    </tr>\n",
              "    <tr>\n",
              "      <th>173295</th>\n",
              "      <td>00:17:02</td>\n",
              "      <td>1022</td>\n",
              "      <td>2019-02-03 12:08:36.392</td>\n",
              "      <td>Sunday</td>\n",
              "      <td>12</td>\n",
              "      <td>2019-02-03 12:25:38.464</td>\n",
              "      <td>Folsom St at 3rd St</td>\n",
              "      <td>Market St at 10th St</td>\n",
              "      <td>5506</td>\n",
              "      <td>Subscriber</td>\n",
              "      <td>1989.0</td>\n",
              "      <td>30.0</td>\n",
              "      <td>Male</td>\n",
              "      <td>No</td>\n",
              "      <td>1.81</td>\n",
              "      <td>33.074591</td>\n",
              "    </tr>\n",
              "    <tr>\n",
              "      <th>33434</th>\n",
              "      <td>00:04:46</td>\n",
              "      <td>286</td>\n",
              "      <td>2019-02-24 11:48:59.229</td>\n",
              "      <td>Sunday</td>\n",
              "      <td>11</td>\n",
              "      <td>2019-02-24 11:53:45.516</td>\n",
              "      <td>The Embarcadero at Sansome St</td>\n",
              "      <td>Broadway at Battery St</td>\n",
              "      <td>1267</td>\n",
              "      <td>Subscriber</td>\n",
              "      <td>1963.0</td>\n",
              "      <td>56.0</td>\n",
              "      <td>Female</td>\n",
              "      <td>No</td>\n",
              "      <td>0.72</td>\n",
              "      <td>34.101057</td>\n",
              "    </tr>\n",
              "    <tr>\n",
              "      <th>13872</th>\n",
              "      <td>00:08:14</td>\n",
              "      <td>494</td>\n",
              "      <td>2019-02-27 14:26:36.627</td>\n",
              "      <td>Wednesday</td>\n",
              "      <td>14</td>\n",
              "      <td>2019-02-27 14:34:50.782</td>\n",
              "      <td>Townsend St at 7th St</td>\n",
              "      <td>1st St at Folsom St</td>\n",
              "      <td>5459</td>\n",
              "      <td>Subscriber</td>\n",
              "      <td>1988.0</td>\n",
              "      <td>31.0</td>\n",
              "      <td>Male</td>\n",
              "      <td>No</td>\n",
              "      <td>1.95</td>\n",
              "      <td>33.176128</td>\n",
              "    </tr>\n",
              "    <tr>\n",
              "      <th>22112</th>\n",
              "      <td>00:10:31</td>\n",
              "      <td>631</td>\n",
              "      <td>2019-02-26 08:29:03.948</td>\n",
              "      <td>Tuesday</td>\n",
              "      <td>8</td>\n",
              "      <td>2019-02-26 08:39:35.584</td>\n",
              "      <td>San Francisco Caltrain Station 2  (Townsend St...</td>\n",
              "      <td>Howard St at Beale St</td>\n",
              "      <td>4337</td>\n",
              "      <td>Subscriber</td>\n",
              "      <td>1995.0</td>\n",
              "      <td>24.0</td>\n",
              "      <td>Male</td>\n",
              "      <td>No</td>\n",
              "      <td>1.46</td>\n",
              "      <td>35.143890</td>\n",
              "    </tr>\n",
              "  </tbody>\n",
              "</table>\n",
              "</div>"
            ],
            "text/plain": [
              "       duration  duration_sec              start_time  start_day  start_hour  \\\n",
              "113095 00:07:08           428 2019-02-12 13:12:48.871    Tuesday          13   \n",
              "173295 00:17:02          1022 2019-02-03 12:08:36.392     Sunday          12   \n",
              "33434  00:04:46           286 2019-02-24 11:48:59.229     Sunday          11   \n",
              "13872  00:08:14           494 2019-02-27 14:26:36.627  Wednesday          14   \n",
              "22112  00:10:31           631 2019-02-26 08:29:03.948    Tuesday           8   \n",
              "\n",
              "                      end_time  \\\n",
              "113095 2019-02-12 13:19:57.023   \n",
              "173295 2019-02-03 12:25:38.464   \n",
              "33434  2019-02-24 11:53:45.516   \n",
              "13872  2019-02-27 14:34:50.782   \n",
              "22112  2019-02-26 08:39:35.584   \n",
              "\n",
              "                                       start_station_name  \\\n",
              "113095                            Steuart St at Market St   \n",
              "173295                                Folsom St at 3rd St   \n",
              "33434                       The Embarcadero at Sansome St   \n",
              "13872                               Townsend St at 7th St   \n",
              "22112   San Francisco Caltrain Station 2  (Townsend St...   \n",
              "\n",
              "                                    end_station_name bike_id   user_type  \\\n",
              "113095  Powell St BART Station (Market St at 4th St)    4979  Subscriber   \n",
              "173295                          Market St at 10th St    5506  Subscriber   \n",
              "33434                         Broadway at Battery St    1267  Subscriber   \n",
              "13872                            1st St at Folsom St    5459  Subscriber   \n",
              "22112                          Howard St at Beale St    4337  Subscriber   \n",
              "\n",
              "        member_birth_year   age member_gender bike_share_for_all_trip  \\\n",
              "113095             1957.0  62.0          Male                      No   \n",
              "173295             1989.0  30.0          Male                      No   \n",
              "33434              1963.0  56.0        Female                      No   \n",
              "13872              1988.0  31.0          Male                      No   \n",
              "22112              1995.0  24.0          Male                      No   \n",
              "\n",
              "        distance/Km  age_imputed  \n",
              "113095         1.26    36.922214  \n",
              "173295         1.81    33.074591  \n",
              "33434          0.72    34.101057  \n",
              "13872          1.95    33.176128  \n",
              "22112          1.46    35.143890  "
            ]
          },
          "execution_count": 63,
          "metadata": {},
          "output_type": "execute_result"
        }
      ],
      "source": [
        "predictions_age.head()"
      ]
    },
    {
      "cell_type": "code",
      "execution_count": 59,
      "metadata": {},
      "outputs": [
        {
          "name": "stdout",
          "output_type": "stream",
          "text": [
            "(34990, 17)\n",
            "Value counts of predicted results:\n",
            " Male      34835\n",
            "Female      155\n",
            "Name: member_gender_imputed, dtype: int64\n",
            "Value counts of actual results:\n",
            " Male      26083\n",
            "Female     8151\n",
            "Other       756\n",
            "Name: member_gender, dtype: int64\n"
          ]
        }
      ],
      "source": [
        "print(predictions_gender.shape)\n",
        "print(\"Value counts of predicted results:\\n\",predictions_gender.member_gender_imputed.value_counts())\n",
        "print(\"Value counts of actual results:\\n\",predictions_gender.member_gender.value_counts())"
      ]
    },
    {
      "attachments": {},
      "cell_type": "markdown",
      "metadata": {},
      "source": [
        "99.5% of the predicted values are males. However, the actual test data set has only 65.8 % males.<br> This shows that the model is very unrelaiable for predicting the gender.<br>\n",
        "This can be because there is no strong correlation between features to identify the gender  alot of outliers in most of the features of the dataset."
      ]
    },
    {
      "cell_type": "code",
      "execution_count": 62,
      "metadata": {},
      "outputs": [
        {
          "name": "stdout",
          "output_type": "stream",
          "text": [
            "The mean absolute error for the age predicted: 7.0663095767147395\n",
            " The matthews correlation coefficient for the predicted gender: 0.045066254594691345\n"
          ]
        }
      ],
      "source": [
        "mse_age = mean_absolute_error(df_test[output_age],\n",
        "                                 predictions_age[f'{output_age}_imputed'])\n",
        "\n",
        "# Evaluation of categorical imputation\n",
        "mcc_gender = matthews_corrcoef(df_test[output_gender],\n",
        "                                predictions_gender[f'{output_gender}_imputed'])\n",
        "\n",
        "print('The mean absolute error for the age predicted: {}\\n The matthews correlation coefficient for the predicted gender: {}'.format(mse_age,mcc_gender))"
      ]
    },
    {
      "attachments": {},
      "cell_type": "markdown",
      "metadata": {},
      "source": [
        "For the age predicted, there is almost 7 years mean error for each imputation.<br>\n",
        "For the gender predicted, the matthews correlation is very close to 0 which indicates that the prediction is very close to random."
      ]
    },
    {
      "attachments": {},
      "cell_type": "markdown",
      "metadata": {},
      "source": [
        "## Conclusion\n",
        "After testing the predicted results, we found out that the model is not reliable and accurate enough to give us the required predicitions.<br>\n",
        "As mentioned, this high inaccuracy can be due to the foact that the features of the dataset have no strong correlatins to each other and have high number of outliers.<br>\n",
        "In this case, using a machine learning model to predict the missing values ('Gender' specifically ) is not the best option since there are no features that strongly correlate to each other which can be used to specify the gender of the user."
      ]
    }
  ],
  "metadata": {
    "colab": {
      "provenance": []
    },
    "kernelspec": {
      "display_name": "myenv",
      "language": "python",
      "name": "python3"
    },
    "language_info": {
      "codemirror_mode": {
        "name": "ipython",
        "version": 3
      },
      "file_extension": ".py",
      "mimetype": "text/x-python",
      "name": "python",
      "nbconvert_exporter": "python",
      "pygments_lexer": "ipython3",
      "version": "3.9.13"
    },
    "vscode": {
      "interpreter": {
        "hash": "ba5ed1875cee054fc06d569e64fab9a5439443b6f2e28d26e3689d6e6d8fc7e8"
      }
    }
  },
  "nbformat": 4,
  "nbformat_minor": 0
}
